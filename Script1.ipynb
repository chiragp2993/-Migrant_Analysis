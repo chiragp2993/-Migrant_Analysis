{
 "metadata": {
  "language_info": {
   "codemirror_mode": {
    "name": "ipython",
    "version": 3
   },
   "file_extension": ".py",
   "mimetype": "text/x-python",
   "name": "python",
   "nbconvert_exporter": "python",
   "pygments_lexer": "ipython3",
   "version": "3.9.6"
  },
  "orig_nbformat": 4,
  "kernelspec": {
   "name": "python3",
   "display_name": "Python 3.9.6 64-bit ('chirag_ds': conda)"
  },
  "interpreter": {
   "hash": "81837ea23eeaa2d6e861a66d7d92911d5d6d7bf2aa9ba316bffc1ad898926795"
  }
 },
 "nbformat": 4,
 "nbformat_minor": 2,
 "cells": [
  {
   "cell_type": "code",
   "execution_count": 2,
   "metadata": {},
   "outputs": [],
   "source": [
    "import pandas as pd\n",
    "import os"
   ]
  },
  {
   "cell_type": "code",
   "execution_count": 3,
   "metadata": {},
   "outputs": [
    {
     "output_type": "stream",
     "name": "stdout",
     "text": [
      "/Users/chirag/Projects/Data_Analysis/Migrants_Analysis\n"
     ]
    }
   ],
   "source": [
    "pwd=os.getcwd()\n",
    "print(pwd)"
   ]
  },
  {
   "cell_type": "code",
   "execution_count": 4,
   "metadata": {},
   "outputs": [
    {
     "output_type": "execute_result",
     "data": {
      "text/plain": [
       "      year_month month_of_release     passenger_type direction     sex  \\\n",
       "0        2019-02          2020-06  Long-term migrant  Arrivals  Female   \n",
       "1        2019-03          2020-06  Long-term migrant  Arrivals  Female   \n",
       "2        2019-04          2020-06  Long-term migrant  Arrivals  Female   \n",
       "3        2019-05          2020-06  Long-term migrant  Arrivals  Female   \n",
       "4        2019-06          2020-06  Long-term migrant  Arrivals  Female   \n",
       "...          ...              ...                ...       ...     ...   \n",
       "38940    2019-11          2020-03  Long-term migrant       Net   TOTAL   \n",
       "38941    2019-12          2020-03  Long-term migrant       Net   TOTAL   \n",
       "38942    2020-01          2020-03  Long-term migrant       Net   TOTAL   \n",
       "38943    2020-02          2020-03  Long-term migrant       Net   TOTAL   \n",
       "38944    2020-03          2020-03  Long-term migrant       Net   TOTAL   \n",
       "\n",
       "             age  estimate  standard_error       status  \n",
       "0      0-4 years       355               0        Final  \n",
       "1      0-4 years       370               0  Provisional  \n",
       "2      0-4 years       277               1  Provisional  \n",
       "3      0-4 years       315               1  Provisional  \n",
       "4      0-4 years       339               2  Provisional  \n",
       "...          ...       ...             ...          ...  \n",
       "38940      TOTAL      4929             238  Provisional  \n",
       "38941      TOTAL      5795             382  Provisional  \n",
       "38942      TOTAL      9863             365  Provisional  \n",
       "38943      TOTAL     10999             397  Provisional  \n",
       "38944      TOTAL      8463             457  Provisional  \n",
       "\n",
       "[38945 rows x 9 columns]"
      ],
      "text/html": "<div>\n<style scoped>\n    .dataframe tbody tr th:only-of-type {\n        vertical-align: middle;\n    }\n\n    .dataframe tbody tr th {\n        vertical-align: top;\n    }\n\n    .dataframe thead th {\n        text-align: right;\n    }\n</style>\n<table border=\"1\" class=\"dataframe\">\n  <thead>\n    <tr style=\"text-align: right;\">\n      <th></th>\n      <th>year_month</th>\n      <th>month_of_release</th>\n      <th>passenger_type</th>\n      <th>direction</th>\n      <th>sex</th>\n      <th>age</th>\n      <th>estimate</th>\n      <th>standard_error</th>\n      <th>status</th>\n    </tr>\n  </thead>\n  <tbody>\n    <tr>\n      <th>0</th>\n      <td>2019-02</td>\n      <td>2020-06</td>\n      <td>Long-term migrant</td>\n      <td>Arrivals</td>\n      <td>Female</td>\n      <td>0-4 years</td>\n      <td>355</td>\n      <td>0</td>\n      <td>Final</td>\n    </tr>\n    <tr>\n      <th>1</th>\n      <td>2019-03</td>\n      <td>2020-06</td>\n      <td>Long-term migrant</td>\n      <td>Arrivals</td>\n      <td>Female</td>\n      <td>0-4 years</td>\n      <td>370</td>\n      <td>0</td>\n      <td>Provisional</td>\n    </tr>\n    <tr>\n      <th>2</th>\n      <td>2019-04</td>\n      <td>2020-06</td>\n      <td>Long-term migrant</td>\n      <td>Arrivals</td>\n      <td>Female</td>\n      <td>0-4 years</td>\n      <td>277</td>\n      <td>1</td>\n      <td>Provisional</td>\n    </tr>\n    <tr>\n      <th>3</th>\n      <td>2019-05</td>\n      <td>2020-06</td>\n      <td>Long-term migrant</td>\n      <td>Arrivals</td>\n      <td>Female</td>\n      <td>0-4 years</td>\n      <td>315</td>\n      <td>1</td>\n      <td>Provisional</td>\n    </tr>\n    <tr>\n      <th>4</th>\n      <td>2019-06</td>\n      <td>2020-06</td>\n      <td>Long-term migrant</td>\n      <td>Arrivals</td>\n      <td>Female</td>\n      <td>0-4 years</td>\n      <td>339</td>\n      <td>2</td>\n      <td>Provisional</td>\n    </tr>\n    <tr>\n      <th>...</th>\n      <td>...</td>\n      <td>...</td>\n      <td>...</td>\n      <td>...</td>\n      <td>...</td>\n      <td>...</td>\n      <td>...</td>\n      <td>...</td>\n      <td>...</td>\n    </tr>\n    <tr>\n      <th>38940</th>\n      <td>2019-11</td>\n      <td>2020-03</td>\n      <td>Long-term migrant</td>\n      <td>Net</td>\n      <td>TOTAL</td>\n      <td>TOTAL</td>\n      <td>4929</td>\n      <td>238</td>\n      <td>Provisional</td>\n    </tr>\n    <tr>\n      <th>38941</th>\n      <td>2019-12</td>\n      <td>2020-03</td>\n      <td>Long-term migrant</td>\n      <td>Net</td>\n      <td>TOTAL</td>\n      <td>TOTAL</td>\n      <td>5795</td>\n      <td>382</td>\n      <td>Provisional</td>\n    </tr>\n    <tr>\n      <th>38942</th>\n      <td>2020-01</td>\n      <td>2020-03</td>\n      <td>Long-term migrant</td>\n      <td>Net</td>\n      <td>TOTAL</td>\n      <td>TOTAL</td>\n      <td>9863</td>\n      <td>365</td>\n      <td>Provisional</td>\n    </tr>\n    <tr>\n      <th>38943</th>\n      <td>2020-02</td>\n      <td>2020-03</td>\n      <td>Long-term migrant</td>\n      <td>Net</td>\n      <td>TOTAL</td>\n      <td>TOTAL</td>\n      <td>10999</td>\n      <td>397</td>\n      <td>Provisional</td>\n    </tr>\n    <tr>\n      <th>38944</th>\n      <td>2020-03</td>\n      <td>2020-03</td>\n      <td>Long-term migrant</td>\n      <td>Net</td>\n      <td>TOTAL</td>\n      <td>TOTAL</td>\n      <td>8463</td>\n      <td>457</td>\n      <td>Provisional</td>\n    </tr>\n  </tbody>\n</table>\n<p>38945 rows × 9 columns</p>\n</div>"
     },
     "metadata": {},
     "execution_count": 4
    }
   ],
   "source": [
    "dataset=pd.read_csv(\"https://www.stats.govt.nz/assets/Uploads/International-migration/International-migration-June-2020/Download-data/international-migration-June-2020-estimated-migration-by-age-sex.csv\")\n",
    "pd.set_option(\"display.max_columns\", None)\n",
    "dataset"
   ]
  },
  {
   "cell_type": "code",
   "execution_count": 5,
   "metadata": {},
   "outputs": [],
   "source": [
    "dataset.to_excel(pwd+ \"/migrants.xlsx\",index=False)"
   ]
  },
  {
   "cell_type": "code",
   "execution_count": null,
   "metadata": {},
   "outputs": [],
   "source": []
  }
 ]
}